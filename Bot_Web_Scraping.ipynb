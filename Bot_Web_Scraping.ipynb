{
 "cells": [
  {
   "cell_type": "code",
   "execution_count": 9,
   "id": "9e9496a2",
   "metadata": {},
   "outputs": [
    {
     "name": "stdout",
     "output_type": "stream",
     "text": [
      "Requirement already satisfied: beautifulsoup4 in c:\\users\\simplon\\anaconda3\\lib\\site-packages (4.9.3)Note: you may need to restart the kernel to use updated packages.\n",
      "\n",
      "Requirement already satisfied: soupsieve>1.2 in c:\\users\\simplon\\anaconda3\\lib\\site-packages (from beautifulsoup4) (2.2.1)\n"
     ]
    }
   ],
   "source": [
    "pip install beautifulsoup4"
   ]
  },
  {
   "cell_type": "code",
   "execution_count": 10,
   "id": "61f04e21",
   "metadata": {},
   "outputs": [
    {
     "name": "stdout",
     "output_type": "stream",
     "text": [
      "Requirement already satisfied: requests in c:\\users\\simplon\\anaconda3\\lib\\site-packages (2.25.1)\n",
      "Requirement already satisfied: certifi>=2017.4.17 in c:\\users\\simplon\\anaconda3\\lib\\site-packages (from requests) (2020.12.5)\n",
      "Requirement already satisfied: chardet<5,>=3.0.2 in c:\\users\\simplon\\anaconda3\\lib\\site-packages (from requests) (4.0.0)\n",
      "Requirement already satisfied: idna<3,>=2.5 in c:\\users\\simplon\\anaconda3\\lib\\site-packages (from requests) (2.10)\n",
      "Requirement already satisfied: urllib3<1.27,>=1.21.1 in c:\\users\\simplon\\anaconda3\\lib\\site-packages (from requests) (1.26.4)\n",
      "Note: you may need to restart the kernel to use updated packages.\n"
     ]
    }
   ],
   "source": [
    "pip install requests"
   ]
  },
  {
   "cell_type": "code",
   "execution_count": 15,
   "id": "70ae6af5",
   "metadata": {},
   "outputs": [],
   "source": [
    "# importer les packages\n",
    "import requests\n",
    "# bs4 c'est le nom du packages que j'ai telechargé plus haut\n",
    "from bs4 import BeautifulSoup\n",
    "import pandas as pd "
   ]
  },
  {
   "cell_type": "code",
   "execution_count": 23,
   "id": "5a60ce94",
   "metadata": {},
   "outputs": [],
   "source": [
    "# saisir l'URL que l'on a besoin pour travailler\n",
    "url=\"https://www.imdb.com/chart/top\""
   ]
  },
  {
   "cell_type": "code",
   "execution_count": 24,
   "id": "444f6988",
   "metadata": {},
   "outputs": [],
   "source": [
    "# importer le code de la page \n",
    "\n",
    "# on a envoyé une requête vers l'url que j'ai mis dans la variable 'reponse'\n",
    "reponse=requests.get(url)\n",
    "# recupère que le text, qui sera dans un objet 'soup'\n",
    "soup=BeautifulSoup(reponse.text,\"html.parser\")\n",
    "# soup"
   ]
  },
  {
   "cell_type": "code",
   "execution_count": 1,
   "id": "04015e4a",
   "metadata": {},
   "outputs": [],
   "source": [
    "# on veut chercher tout les items =soup.findAll('item')"
   ]
  },
  {
   "cell_type": "code",
   "execution_count": null,
   "id": "68da66c7",
   "metadata": {},
   "outputs": [],
   "source": []
  },
  {
   "cell_type": "code",
   "execution_count": null,
   "id": "d6601f19",
   "metadata": {},
   "outputs": [],
   "source": []
  }
 ],
 "metadata": {
  "kernelspec": {
   "display_name": "Python 3",
   "language": "python",
   "name": "python3"
  },
  "language_info": {
   "codemirror_mode": {
    "name": "ipython",
    "version": 3
   },
   "file_extension": ".py",
   "mimetype": "text/x-python",
   "name": "python",
   "nbconvert_exporter": "python",
   "pygments_lexer": "ipython3",
   "version": "3.8.8"
  }
 },
 "nbformat": 4,
 "nbformat_minor": 5
}
